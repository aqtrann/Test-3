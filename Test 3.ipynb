{
 "cells": [
  {
   "cell_type": "code",
   "execution_count": 1,
   "id": "915c1ab5",
   "metadata": {},
   "outputs": [],
   "source": [
    "import pandas as pd\n",
    "import numpy as np"
   ]
  },
  {
   "cell_type": "markdown",
   "id": "83878f66",
   "metadata": {},
   "source": [
    "# Import data"
   ]
  },
  {
   "cell_type": "code",
   "execution_count": 3,
   "id": "730d66e4",
   "metadata": {},
   "outputs": [],
   "source": [
    "data = pd.read_csv('Downloads/transaction_data.csv')"
   ]
  },
  {
   "cell_type": "code",
   "execution_count": 4,
   "id": "748e9898",
   "metadata": {},
   "outputs": [
    {
     "data": {
      "text/html": [
       "<div>\n",
       "<style scoped>\n",
       "    .dataframe tbody tr th:only-of-type {\n",
       "        vertical-align: middle;\n",
       "    }\n",
       "\n",
       "    .dataframe tbody tr th {\n",
       "        vertical-align: top;\n",
       "    }\n",
       "\n",
       "    .dataframe thead th {\n",
       "        text-align: right;\n",
       "    }\n",
       "</style>\n",
       "<table border=\"1\" class=\"dataframe\">\n",
       "  <thead>\n",
       "    <tr style=\"text-align: right;\">\n",
       "      <th></th>\n",
       "      <th>txn_time</th>\n",
       "      <th>txn_date</th>\n",
       "      <th>order_id</th>\n",
       "      <th>uid</th>\n",
       "      <th>shop_id</th>\n",
       "      <th>shop_owner_uid</th>\n",
       "      <th>gmv</th>\n",
       "      <th>rebate</th>\n",
       "    </tr>\n",
       "  </thead>\n",
       "  <tbody>\n",
       "    <tr>\n",
       "      <th>0</th>\n",
       "      <td>10/30/2019 13:37</td>\n",
       "      <td>10/30/2019</td>\n",
       "      <td>142008725</td>\n",
       "      <td>102161515</td>\n",
       "      <td>1005</td>\n",
       "      <td>100054430</td>\n",
       "      <td>70000</td>\n",
       "      <td>20000</td>\n",
       "    </tr>\n",
       "    <tr>\n",
       "      <th>1</th>\n",
       "      <td>10/30/2019 20:26</td>\n",
       "      <td>10/30/2019</td>\n",
       "      <td>142119377</td>\n",
       "      <td>102867263</td>\n",
       "      <td>10050</td>\n",
       "      <td>1792841</td>\n",
       "      <td>80000</td>\n",
       "      <td>20000</td>\n",
       "    </tr>\n",
       "    <tr>\n",
       "      <th>2</th>\n",
       "      <td>10/30/2019 12:22</td>\n",
       "      <td>10/30/2019</td>\n",
       "      <td>141986418</td>\n",
       "      <td>100401383</td>\n",
       "      <td>10075</td>\n",
       "      <td>100155720</td>\n",
       "      <td>125000</td>\n",
       "      <td>20000</td>\n",
       "    </tr>\n",
       "    <tr>\n",
       "      <th>3</th>\n",
       "      <td>10/30/2019 9:46</td>\n",
       "      <td>10/30/2019</td>\n",
       "      <td>141941958</td>\n",
       "      <td>103213155</td>\n",
       "      <td>10088</td>\n",
       "      <td>103894677</td>\n",
       "      <td>82000</td>\n",
       "      <td>20000</td>\n",
       "    </tr>\n",
       "    <tr>\n",
       "      <th>4</th>\n",
       "      <td>10/30/2019 21:56</td>\n",
       "      <td>10/30/2019</td>\n",
       "      <td>142139275</td>\n",
       "      <td>101003290</td>\n",
       "      <td>10142</td>\n",
       "      <td>103909421</td>\n",
       "      <td>260000</td>\n",
       "      <td>20000</td>\n",
       "    </tr>\n",
       "  </tbody>\n",
       "</table>\n",
       "</div>"
      ],
      "text/plain": [
       "           txn_time    txn_date   order_id        uid  shop_id  \\\n",
       "0  10/30/2019 13:37  10/30/2019  142008725  102161515     1005   \n",
       "1  10/30/2019 20:26  10/30/2019  142119377  102867263    10050   \n",
       "2  10/30/2019 12:22  10/30/2019  141986418  100401383    10075   \n",
       "3   10/30/2019 9:46  10/30/2019  141941958  103213155    10088   \n",
       "4  10/30/2019 21:56  10/30/2019  142139275  101003290    10142   \n",
       "\n",
       "   shop_owner_uid     gmv  rebate  \n",
       "0       100054430   70000   20000  \n",
       "1         1792841   80000   20000  \n",
       "2       100155720  125000   20000  \n",
       "3       103894677   82000   20000  \n",
       "4       103909421  260000   20000  "
      ]
     },
     "execution_count": 4,
     "metadata": {},
     "output_type": "execute_result"
    }
   ],
   "source": [
    "data.head()"
   ]
  },
  {
   "cell_type": "code",
   "execution_count": 5,
   "id": "634f1b0f",
   "metadata": {},
   "outputs": [
    {
     "name": "stdout",
     "output_type": "stream",
     "text": [
      "<class 'pandas.core.frame.DataFrame'>\n",
      "RangeIndex: 4611 entries, 0 to 4610\n",
      "Data columns (total 8 columns):\n",
      " #   Column          Non-Null Count  Dtype \n",
      "---  ------          --------------  ----- \n",
      " 0   txn_time        4611 non-null   object\n",
      " 1   txn_date        4611 non-null   object\n",
      " 2   order_id        4611 non-null   int64 \n",
      " 3   uid             4611 non-null   int64 \n",
      " 4   shop_id         4611 non-null   int64 \n",
      " 5   shop_owner_uid  4611 non-null   int64 \n",
      " 6   gmv             4611 non-null   int64 \n",
      " 7   rebate          4611 non-null   int64 \n",
      "dtypes: int64(6), object(2)\n",
      "memory usage: 288.3+ KB\n"
     ]
    }
   ],
   "source": [
    "data.info()"
   ]
  },
  {
   "cell_type": "markdown",
   "id": "1ba1e33d",
   "metadata": {},
   "source": [
    "# Cleaning"
   ]
  },
  {
   "cell_type": "code",
   "execution_count": 7,
   "id": "d1ac342c",
   "metadata": {},
   "outputs": [],
   "source": [
    "data['txn_date'] = pd.to_datetime(data['txn_date'])\n",
    "data['txn_time'] = pd.to_datetime(data['txn_time'])"
   ]
  },
  {
   "cell_type": "code",
   "execution_count": 8,
   "id": "938fcb04",
   "metadata": {},
   "outputs": [
    {
     "name": "stdout",
     "output_type": "stream",
     "text": [
      "<class 'pandas.core.frame.DataFrame'>\n",
      "RangeIndex: 4611 entries, 0 to 4610\n",
      "Data columns (total 8 columns):\n",
      " #   Column          Non-Null Count  Dtype         \n",
      "---  ------          --------------  -----         \n",
      " 0   txn_time        4611 non-null   datetime64[ns]\n",
      " 1   txn_date        4611 non-null   datetime64[ns]\n",
      " 2   order_id        4611 non-null   int64         \n",
      " 3   uid             4611 non-null   int64         \n",
      " 4   shop_id         4611 non-null   int64         \n",
      " 5   shop_owner_uid  4611 non-null   int64         \n",
      " 6   gmv             4611 non-null   int64         \n",
      " 7   rebate          4611 non-null   int64         \n",
      "dtypes: datetime64[ns](2), int64(6)\n",
      "memory usage: 288.3 KB\n"
     ]
    }
   ],
   "source": [
    "data.info()"
   ]
  },
  {
   "cell_type": "code",
   "execution_count": 9,
   "id": "c3f36427",
   "metadata": {},
   "outputs": [
    {
     "data": {
      "text/html": [
       "<div>\n",
       "<style scoped>\n",
       "    .dataframe tbody tr th:only-of-type {\n",
       "        vertical-align: middle;\n",
       "    }\n",
       "\n",
       "    .dataframe tbody tr th {\n",
       "        vertical-align: top;\n",
       "    }\n",
       "\n",
       "    .dataframe thead th {\n",
       "        text-align: right;\n",
       "    }\n",
       "</style>\n",
       "<table border=\"1\" class=\"dataframe\">\n",
       "  <thead>\n",
       "    <tr style=\"text-align: right;\">\n",
       "      <th></th>\n",
       "      <th>txn_time</th>\n",
       "      <th>txn_date</th>\n",
       "      <th>order_id</th>\n",
       "      <th>uid</th>\n",
       "      <th>shop_id</th>\n",
       "      <th>shop_owner_uid</th>\n",
       "      <th>gmv</th>\n",
       "      <th>rebate</th>\n",
       "    </tr>\n",
       "  </thead>\n",
       "  <tbody>\n",
       "    <tr>\n",
       "      <th>0</th>\n",
       "      <td>2019-10-30 13:37:00</td>\n",
       "      <td>2019-10-30</td>\n",
       "      <td>142008725</td>\n",
       "      <td>102161515</td>\n",
       "      <td>1005</td>\n",
       "      <td>100054430</td>\n",
       "      <td>70000</td>\n",
       "      <td>20000</td>\n",
       "    </tr>\n",
       "    <tr>\n",
       "      <th>1</th>\n",
       "      <td>2019-10-30 20:26:00</td>\n",
       "      <td>2019-10-30</td>\n",
       "      <td>142119377</td>\n",
       "      <td>102867263</td>\n",
       "      <td>10050</td>\n",
       "      <td>1792841</td>\n",
       "      <td>80000</td>\n",
       "      <td>20000</td>\n",
       "    </tr>\n",
       "    <tr>\n",
       "      <th>2</th>\n",
       "      <td>2019-10-30 12:22:00</td>\n",
       "      <td>2019-10-30</td>\n",
       "      <td>141986418</td>\n",
       "      <td>100401383</td>\n",
       "      <td>10075</td>\n",
       "      <td>100155720</td>\n",
       "      <td>125000</td>\n",
       "      <td>20000</td>\n",
       "    </tr>\n",
       "    <tr>\n",
       "      <th>3</th>\n",
       "      <td>2019-10-30 09:46:00</td>\n",
       "      <td>2019-10-30</td>\n",
       "      <td>141941958</td>\n",
       "      <td>103213155</td>\n",
       "      <td>10088</td>\n",
       "      <td>103894677</td>\n",
       "      <td>82000</td>\n",
       "      <td>20000</td>\n",
       "    </tr>\n",
       "    <tr>\n",
       "      <th>4</th>\n",
       "      <td>2019-10-30 21:56:00</td>\n",
       "      <td>2019-10-30</td>\n",
       "      <td>142139275</td>\n",
       "      <td>101003290</td>\n",
       "      <td>10142</td>\n",
       "      <td>103909421</td>\n",
       "      <td>260000</td>\n",
       "      <td>20000</td>\n",
       "    </tr>\n",
       "  </tbody>\n",
       "</table>\n",
       "</div>"
      ],
      "text/plain": [
       "             txn_time   txn_date   order_id        uid  shop_id  \\\n",
       "0 2019-10-30 13:37:00 2019-10-30  142008725  102161515     1005   \n",
       "1 2019-10-30 20:26:00 2019-10-30  142119377  102867263    10050   \n",
       "2 2019-10-30 12:22:00 2019-10-30  141986418  100401383    10075   \n",
       "3 2019-10-30 09:46:00 2019-10-30  141941958  103213155    10088   \n",
       "4 2019-10-30 21:56:00 2019-10-30  142139275  101003290    10142   \n",
       "\n",
       "   shop_owner_uid     gmv  rebate  \n",
       "0       100054430   70000   20000  \n",
       "1         1792841   80000   20000  \n",
       "2       100155720  125000   20000  \n",
       "3       103894677   82000   20000  \n",
       "4       103909421  260000   20000  "
      ]
     },
     "execution_count": 9,
     "metadata": {},
     "output_type": "execute_result"
    }
   ],
   "source": [
    "data.head()"
   ]
  },
  {
   "cell_type": "code",
   "execution_count": 14,
   "id": "0b0b968e",
   "metadata": {},
   "outputs": [
    {
     "data": {
      "text/plain": [
       "txn_time          0\n",
       "txn_date          0\n",
       "order_id          0\n",
       "uid               0\n",
       "shop_id           0\n",
       "shop_owner_uid    0\n",
       "gmv               0\n",
       "rebate            0\n",
       "dtype: int64"
      ]
     },
     "execution_count": 14,
     "metadata": {},
     "output_type": "execute_result"
    }
   ],
   "source": [
    "data.isnull().sum()"
   ]
  },
  {
   "cell_type": "markdown",
   "id": "95827ce1",
   "metadata": {},
   "source": [
    "# EDA"
   ]
  },
  {
   "cell_type": "code",
   "execution_count": 17,
   "id": "56685e94",
   "metadata": {},
   "outputs": [
    {
     "data": {
      "text/plain": [
       "138985.27586206896"
      ]
     },
     "execution_count": 17,
     "metadata": {},
     "output_type": "execute_result"
    }
   ],
   "source": [
    "data['gmv'].mean()"
   ]
  },
  {
   "cell_type": "code",
   "execution_count": 22,
   "id": "34200724",
   "metadata": {},
   "outputs": [],
   "source": [
    "conditions = [\n",
    "    (data['gmv'] <= 100000),\n",
    "    (data['gmv'] > 100000) & (data['gmv'] <= 200000),\n",
    "    (data['gmv'] > 200000) & (data['gmv'] <= 300000),\n",
    "    (data['gmv'] > 300000) & (data['gmv'] <= 400000),\n",
    "    (data['gmv'] > 400000) & (data['gmv'] <= 500000),\n",
    "    (data['gmv'] > 500000) & (data['gmv'] <= 600000),\n",
    "    (data['gmv'] > 600000) & (data['gmv'] <= 700000),\n",
    "    (data['gmv'] > 700000) & (data['gmv'] <= 800000),\n",
    "    (data['gmv'] > 800000) & (data['gmv'] <= 900000),\n",
    "    (data['gmv'] > 900000) & (data['gmv'] <= 1000000),\n",
    "    (data['gmv'] > 1000000)\n",
    "    ]"
   ]
  },
  {
   "cell_type": "code",
   "execution_count": 23,
   "id": "cc47e833",
   "metadata": {},
   "outputs": [],
   "source": [
    "values = ['0-1', '1-2', '2-3', '3-4', '4-5', '5-6', '6-7', '7-8', '8-9', '9-10', '>1tr']"
   ]
  },
  {
   "cell_type": "code",
   "execution_count": 24,
   "id": "28d66997",
   "metadata": {},
   "outputs": [],
   "source": [
    "data['Group'] = np.select(conditions, values)"
   ]
  },
  {
   "cell_type": "code",
   "execution_count": 25,
   "id": "9f7fcf1b",
   "metadata": {},
   "outputs": [
    {
     "data": {
      "text/html": [
       "<div>\n",
       "<style scoped>\n",
       "    .dataframe tbody tr th:only-of-type {\n",
       "        vertical-align: middle;\n",
       "    }\n",
       "\n",
       "    .dataframe tbody tr th {\n",
       "        vertical-align: top;\n",
       "    }\n",
       "\n",
       "    .dataframe thead th {\n",
       "        text-align: right;\n",
       "    }\n",
       "</style>\n",
       "<table border=\"1\" class=\"dataframe\">\n",
       "  <thead>\n",
       "    <tr style=\"text-align: right;\">\n",
       "      <th></th>\n",
       "      <th>txn_time</th>\n",
       "      <th>txn_date</th>\n",
       "      <th>order_id</th>\n",
       "      <th>uid</th>\n",
       "      <th>shop_id</th>\n",
       "      <th>shop_owner_uid</th>\n",
       "      <th>gmv</th>\n",
       "      <th>rebate</th>\n",
       "      <th>tier</th>\n",
       "      <th>Group</th>\n",
       "    </tr>\n",
       "  </thead>\n",
       "  <tbody>\n",
       "    <tr>\n",
       "      <th>0</th>\n",
       "      <td>2019-10-30 13:37:00</td>\n",
       "      <td>2019-10-30</td>\n",
       "      <td>142008725</td>\n",
       "      <td>102161515</td>\n",
       "      <td>1005</td>\n",
       "      <td>100054430</td>\n",
       "      <td>70000</td>\n",
       "      <td>20000</td>\n",
       "      <td>tier_4</td>\n",
       "      <td>0-1</td>\n",
       "    </tr>\n",
       "    <tr>\n",
       "      <th>1</th>\n",
       "      <td>2019-10-30 20:26:00</td>\n",
       "      <td>2019-10-30</td>\n",
       "      <td>142119377</td>\n",
       "      <td>102867263</td>\n",
       "      <td>10050</td>\n",
       "      <td>1792841</td>\n",
       "      <td>80000</td>\n",
       "      <td>20000</td>\n",
       "      <td>tier_4</td>\n",
       "      <td>0-1</td>\n",
       "    </tr>\n",
       "    <tr>\n",
       "      <th>2</th>\n",
       "      <td>2019-10-30 12:22:00</td>\n",
       "      <td>2019-10-30</td>\n",
       "      <td>141986418</td>\n",
       "      <td>100401383</td>\n",
       "      <td>10075</td>\n",
       "      <td>100155720</td>\n",
       "      <td>125000</td>\n",
       "      <td>20000</td>\n",
       "      <td>0</td>\n",
       "      <td>1-2</td>\n",
       "    </tr>\n",
       "    <tr>\n",
       "      <th>3</th>\n",
       "      <td>2019-10-30 09:46:00</td>\n",
       "      <td>2019-10-30</td>\n",
       "      <td>141941958</td>\n",
       "      <td>103213155</td>\n",
       "      <td>10088</td>\n",
       "      <td>103894677</td>\n",
       "      <td>82000</td>\n",
       "      <td>20000</td>\n",
       "      <td>tier_4</td>\n",
       "      <td>0-1</td>\n",
       "    </tr>\n",
       "    <tr>\n",
       "      <th>4</th>\n",
       "      <td>2019-10-30 21:56:00</td>\n",
       "      <td>2019-10-30</td>\n",
       "      <td>142139275</td>\n",
       "      <td>101003290</td>\n",
       "      <td>10142</td>\n",
       "      <td>103909421</td>\n",
       "      <td>260000</td>\n",
       "      <td>20000</td>\n",
       "      <td>0</td>\n",
       "      <td>2-3</td>\n",
       "    </tr>\n",
       "  </tbody>\n",
       "</table>\n",
       "</div>"
      ],
      "text/plain": [
       "             txn_time   txn_date   order_id        uid  shop_id  \\\n",
       "0 2019-10-30 13:37:00 2019-10-30  142008725  102161515     1005   \n",
       "1 2019-10-30 20:26:00 2019-10-30  142119377  102867263    10050   \n",
       "2 2019-10-30 12:22:00 2019-10-30  141986418  100401383    10075   \n",
       "3 2019-10-30 09:46:00 2019-10-30  141941958  103213155    10088   \n",
       "4 2019-10-30 21:56:00 2019-10-30  142139275  101003290    10142   \n",
       "\n",
       "   shop_owner_uid     gmv  rebate    tier Group  \n",
       "0       100054430   70000   20000  tier_4   0-1  \n",
       "1         1792841   80000   20000  tier_4   0-1  \n",
       "2       100155720  125000   20000       0   1-2  \n",
       "3       103894677   82000   20000  tier_4   0-1  \n",
       "4       103909421  260000   20000       0   2-3  "
      ]
     },
     "execution_count": 25,
     "metadata": {},
     "output_type": "execute_result"
    }
   ],
   "source": [
    "data.head()"
   ]
  },
  {
   "cell_type": "code",
   "execution_count": 28,
   "id": "0c63c8f1",
   "metadata": {},
   "outputs": [
    {
     "data": {
      "text/plain": [
       "Group\n",
       "0-1     2994\n",
       "1-2      897\n",
       "2-3      312\n",
       "3-4      139\n",
       "4-5       94\n",
       "5-6       57\n",
       "6-7       26\n",
       "7-8       26\n",
       "8-9       21\n",
       "9-10       9\n",
       ">1tr      36\n",
       "Name: order_id, dtype: int64"
      ]
     },
     "execution_count": 28,
     "metadata": {},
     "output_type": "execute_result"
    }
   ],
   "source": [
    "data.groupby(['Group'])['order_id'].count()"
   ]
  },
  {
   "cell_type": "markdown",
   "id": "8141f405",
   "metadata": {},
   "source": [
    "Các đơn hàng có giá trị từ 100k trở xuống là khoảng có số lượng giao dịch nhiều nhất với 2994 giao dịch"
   ]
  },
  {
   "cell_type": "code",
   "execution_count": 33,
   "id": "37e870fa",
   "metadata": {},
   "outputs": [],
   "source": [
    "data[\"ID\"] = data[\"uid\"].astype(str) + '-' + data[\"shop_id\"].astype(str)"
   ]
  },
  {
   "cell_type": "code",
   "execution_count": 34,
   "id": "8257cb35",
   "metadata": {},
   "outputs": [
    {
     "data": {
      "text/html": [
       "<div>\n",
       "<style scoped>\n",
       "    .dataframe tbody tr th:only-of-type {\n",
       "        vertical-align: middle;\n",
       "    }\n",
       "\n",
       "    .dataframe tbody tr th {\n",
       "        vertical-align: top;\n",
       "    }\n",
       "\n",
       "    .dataframe thead th {\n",
       "        text-align: right;\n",
       "    }\n",
       "</style>\n",
       "<table border=\"1\" class=\"dataframe\">\n",
       "  <thead>\n",
       "    <tr style=\"text-align: right;\">\n",
       "      <th></th>\n",
       "      <th>txn_time</th>\n",
       "      <th>txn_date</th>\n",
       "      <th>order_id</th>\n",
       "      <th>uid</th>\n",
       "      <th>shop_id</th>\n",
       "      <th>shop_owner_uid</th>\n",
       "      <th>gmv</th>\n",
       "      <th>rebate</th>\n",
       "      <th>tier</th>\n",
       "      <th>Group</th>\n",
       "      <th>ID</th>\n",
       "    </tr>\n",
       "  </thead>\n",
       "  <tbody>\n",
       "    <tr>\n",
       "      <th>0</th>\n",
       "      <td>2019-10-30 13:37:00</td>\n",
       "      <td>2019-10-30</td>\n",
       "      <td>142008725</td>\n",
       "      <td>102161515</td>\n",
       "      <td>1005</td>\n",
       "      <td>100054430</td>\n",
       "      <td>70000</td>\n",
       "      <td>20000</td>\n",
       "      <td>tier_4</td>\n",
       "      <td>0-1</td>\n",
       "      <td>102161515-1005</td>\n",
       "    </tr>\n",
       "    <tr>\n",
       "      <th>1</th>\n",
       "      <td>2019-10-30 20:26:00</td>\n",
       "      <td>2019-10-30</td>\n",
       "      <td>142119377</td>\n",
       "      <td>102867263</td>\n",
       "      <td>10050</td>\n",
       "      <td>1792841</td>\n",
       "      <td>80000</td>\n",
       "      <td>20000</td>\n",
       "      <td>tier_4</td>\n",
       "      <td>0-1</td>\n",
       "      <td>102867263-10050</td>\n",
       "    </tr>\n",
       "    <tr>\n",
       "      <th>2</th>\n",
       "      <td>2019-10-30 12:22:00</td>\n",
       "      <td>2019-10-30</td>\n",
       "      <td>141986418</td>\n",
       "      <td>100401383</td>\n",
       "      <td>10075</td>\n",
       "      <td>100155720</td>\n",
       "      <td>125000</td>\n",
       "      <td>20000</td>\n",
       "      <td>0</td>\n",
       "      <td>1-2</td>\n",
       "      <td>100401383-10075</td>\n",
       "    </tr>\n",
       "    <tr>\n",
       "      <th>3</th>\n",
       "      <td>2019-10-30 09:46:00</td>\n",
       "      <td>2019-10-30</td>\n",
       "      <td>141941958</td>\n",
       "      <td>103213155</td>\n",
       "      <td>10088</td>\n",
       "      <td>103894677</td>\n",
       "      <td>82000</td>\n",
       "      <td>20000</td>\n",
       "      <td>tier_4</td>\n",
       "      <td>0-1</td>\n",
       "      <td>103213155-10088</td>\n",
       "    </tr>\n",
       "    <tr>\n",
       "      <th>4</th>\n",
       "      <td>2019-10-30 21:56:00</td>\n",
       "      <td>2019-10-30</td>\n",
       "      <td>142139275</td>\n",
       "      <td>101003290</td>\n",
       "      <td>10142</td>\n",
       "      <td>103909421</td>\n",
       "      <td>260000</td>\n",
       "      <td>20000</td>\n",
       "      <td>0</td>\n",
       "      <td>2-3</td>\n",
       "      <td>101003290-10142</td>\n",
       "    </tr>\n",
       "  </tbody>\n",
       "</table>\n",
       "</div>"
      ],
      "text/plain": [
       "             txn_time   txn_date   order_id        uid  shop_id  \\\n",
       "0 2019-10-30 13:37:00 2019-10-30  142008725  102161515     1005   \n",
       "1 2019-10-30 20:26:00 2019-10-30  142119377  102867263    10050   \n",
       "2 2019-10-30 12:22:00 2019-10-30  141986418  100401383    10075   \n",
       "3 2019-10-30 09:46:00 2019-10-30  141941958  103213155    10088   \n",
       "4 2019-10-30 21:56:00 2019-10-30  142139275  101003290    10142   \n",
       "\n",
       "   shop_owner_uid     gmv  rebate    tier Group               ID  \n",
       "0       100054430   70000   20000  tier_4   0-1   102161515-1005  \n",
       "1         1792841   80000   20000  tier_4   0-1  102867263-10050  \n",
       "2       100155720  125000   20000       0   1-2  100401383-10075  \n",
       "3       103894677   82000   20000  tier_4   0-1  103213155-10088  \n",
       "4       103909421  260000   20000       0   2-3  101003290-10142  "
      ]
     },
     "execution_count": 34,
     "metadata": {},
     "output_type": "execute_result"
    }
   ],
   "source": [
    "data.head()"
   ]
  },
  {
   "cell_type": "code",
   "execution_count": 57,
   "id": "9e1c298c",
   "metadata": {},
   "outputs": [],
   "source": [
    "data_copy = data.copy()"
   ]
  },
  {
   "cell_type": "code",
   "execution_count": 58,
   "id": "3407d177",
   "metadata": {},
   "outputs": [],
   "source": [
    "data_copy.drop(data_copy[data_copy['rebate'] < 1].index, inplace = True)"
   ]
  },
  {
   "cell_type": "code",
   "execution_count": 59,
   "id": "7a3bdb0e",
   "metadata": {},
   "outputs": [],
   "source": [
    "dup = data_copy[data_copy.duplicated(['ID'], keep=False)].sort_values(by = ['ID'])"
   ]
  },
  {
   "cell_type": "code",
   "execution_count": 64,
   "id": "17357107",
   "metadata": {},
   "outputs": [
    {
     "data": {
      "text/html": [
       "<div>\n",
       "<style scoped>\n",
       "    .dataframe tbody tr th:only-of-type {\n",
       "        vertical-align: middle;\n",
       "    }\n",
       "\n",
       "    .dataframe tbody tr th {\n",
       "        vertical-align: top;\n",
       "    }\n",
       "\n",
       "    .dataframe thead th {\n",
       "        text-align: right;\n",
       "    }\n",
       "</style>\n",
       "<table border=\"1\" class=\"dataframe\">\n",
       "  <thead>\n",
       "    <tr style=\"text-align: right;\">\n",
       "      <th></th>\n",
       "      <th>txn_time</th>\n",
       "      <th>txn_date</th>\n",
       "      <th>order_id</th>\n",
       "      <th>uid</th>\n",
       "      <th>shop_id</th>\n",
       "      <th>shop_owner_uid</th>\n",
       "      <th>gmv</th>\n",
       "      <th>rebate</th>\n",
       "      <th>tier</th>\n",
       "      <th>Group</th>\n",
       "      <th>ID</th>\n",
       "    </tr>\n",
       "  </thead>\n",
       "  <tbody>\n",
       "    <tr>\n",
       "      <th>1116</th>\n",
       "      <td>2019-10-31 13:02:00</td>\n",
       "      <td>2019-10-31</td>\n",
       "      <td>142246468</td>\n",
       "      <td>100024287</td>\n",
       "      <td>1503</td>\n",
       "      <td>1744747</td>\n",
       "      <td>205000</td>\n",
       "      <td>20000</td>\n",
       "      <td>0</td>\n",
       "      <td>2-3</td>\n",
       "      <td>100024287-1503</td>\n",
       "    </tr>\n",
       "    <tr>\n",
       "      <th>3330</th>\n",
       "      <td>2019-11-02 12:38:00</td>\n",
       "      <td>2019-11-02</td>\n",
       "      <td>142734855</td>\n",
       "      <td>100024287</td>\n",
       "      <td>1503</td>\n",
       "      <td>1744747</td>\n",
       "      <td>120000</td>\n",
       "      <td>20000</td>\n",
       "      <td>0</td>\n",
       "      <td>1-2</td>\n",
       "      <td>100024287-1503</td>\n",
       "    </tr>\n",
       "    <tr>\n",
       "      <th>2619</th>\n",
       "      <td>2019-11-01 17:42:00</td>\n",
       "      <td>2019-11-01</td>\n",
       "      <td>142574513</td>\n",
       "      <td>100043020</td>\n",
       "      <td>5577</td>\n",
       "      <td>103431327</td>\n",
       "      <td>100000</td>\n",
       "      <td>20000</td>\n",
       "      <td>tier_4</td>\n",
       "      <td>0-1</td>\n",
       "      <td>100043020-5577</td>\n",
       "    </tr>\n",
       "    <tr>\n",
       "      <th>3896</th>\n",
       "      <td>2019-11-02 15:33:00</td>\n",
       "      <td>2019-11-02</td>\n",
       "      <td>142781339</td>\n",
       "      <td>100043020</td>\n",
       "      <td>5577</td>\n",
       "      <td>103431327</td>\n",
       "      <td>100000</td>\n",
       "      <td>20000</td>\n",
       "      <td>tier_4</td>\n",
       "      <td>0-1</td>\n",
       "      <td>100043020-5577</td>\n",
       "    </tr>\n",
       "    <tr>\n",
       "      <th>6</th>\n",
       "      <td>2019-10-30 12:46:00</td>\n",
       "      <td>2019-10-30</td>\n",
       "      <td>141993339</td>\n",
       "      <td>100060089</td>\n",
       "      <td>10173</td>\n",
       "      <td>103915476</td>\n",
       "      <td>56000</td>\n",
       "      <td>16800</td>\n",
       "      <td>tier_4</td>\n",
       "      <td>0-1</td>\n",
       "      <td>100060089-10173</td>\n",
       "    </tr>\n",
       "  </tbody>\n",
       "</table>\n",
       "</div>"
      ],
      "text/plain": [
       "                txn_time   txn_date   order_id        uid  shop_id  \\\n",
       "1116 2019-10-31 13:02:00 2019-10-31  142246468  100024287     1503   \n",
       "3330 2019-11-02 12:38:00 2019-11-02  142734855  100024287     1503   \n",
       "2619 2019-11-01 17:42:00 2019-11-01  142574513  100043020     5577   \n",
       "3896 2019-11-02 15:33:00 2019-11-02  142781339  100043020     5577   \n",
       "6    2019-10-30 12:46:00 2019-10-30  141993339  100060089    10173   \n",
       "\n",
       "      shop_owner_uid     gmv  rebate    tier Group               ID  \n",
       "1116         1744747  205000   20000       0   2-3   100024287-1503  \n",
       "3330         1744747  120000   20000       0   1-2   100024287-1503  \n",
       "2619       103431327  100000   20000  tier_4   0-1   100043020-5577  \n",
       "3896       103431327  100000   20000  tier_4   0-1   100043020-5577  \n",
       "6          103915476   56000   16800  tier_4   0-1  100060089-10173  "
      ]
     },
     "execution_count": 64,
     "metadata": {},
     "output_type": "execute_result"
    }
   ],
   "source": [
    "dup.head()"
   ]
  },
  {
   "cell_type": "code",
   "execution_count": 62,
   "id": "560b6203",
   "metadata": {},
   "outputs": [
    {
     "data": {
      "text/plain": [
       "txn_time          2019-10-30 00:23:00\n",
       "txn_date          2019-10-30 00:00:00\n",
       "order_id                    141905033\n",
       "uid                           1130584\n",
       "shop_id                           136\n",
       "shop_owner_uid                1005510\n",
       "gmv                             10000\n",
       "rebate                           3000\n",
       "tier                                0\n",
       "Group                             0-1\n",
       "ID                     100024287-1503\n",
       "dtype: object"
      ]
     },
     "execution_count": 62,
     "metadata": {},
     "output_type": "execute_result"
    }
   ],
   "source": [
    "dup.min()"
   ]
  },
  {
   "cell_type": "code",
   "execution_count": 66,
   "id": "55218b15",
   "metadata": {},
   "outputs": [],
   "source": [
    "oIDs = dup.groupby('shop_owner_uid')['shop_owner_uid'].count()"
   ]
  },
  {
   "cell_type": "code",
   "execution_count": 70,
   "id": "b4c42d0f",
   "metadata": {},
   "outputs": [
    {
     "data": {
      "text/plain": [
       "shop_owner_uid\n",
       "1005510        2\n",
       "102928117      2\n",
       "102946203      2\n",
       "102949530      2\n",
       "102986571      2\n",
       "            ... \n",
       "103280547     14\n",
       "100305004     16\n",
       "103333474     16\n",
       "1952823       18\n",
       "102817559    132\n",
       "Name: shop_owner_uid, Length: 252, dtype: int64"
      ]
     },
     "execution_count": 70,
     "metadata": {},
     "output_type": "execute_result"
    }
   ],
   "source": [
    "oIDs.sort_values()"
   ]
  },
  {
   "cell_type": "code",
   "execution_count": null,
   "id": "c5094b04",
   "metadata": {},
   "outputs": [],
   "source": []
  }
 ],
 "metadata": {
  "kernelspec": {
   "display_name": "Python 3 (ipykernel)",
   "language": "python",
   "name": "python3"
  },
  "language_info": {
   "codemirror_mode": {
    "name": "ipython",
    "version": 3
   },
   "file_extension": ".py",
   "mimetype": "text/x-python",
   "name": "python",
   "nbconvert_exporter": "python",
   "pygments_lexer": "ipython3",
   "version": "3.9.7"
  }
 },
 "nbformat": 4,
 "nbformat_minor": 5
}
